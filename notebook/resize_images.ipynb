{
 "cells": [
  {
   "cell_type": "code",
   "execution_count": 1,
   "metadata": {},
   "outputs": [],
   "source": [
    "import os\n",
    "import glob\n",
    "from PIL import Image"
   ]
  },
  {
   "cell_type": "markdown",
   "metadata": {},
   "source": [
    "#### 100枚のデータを選択し, 移動"
   ]
  },
  {
   "cell_type": "code",
   "execution_count": 8,
   "metadata": {},
   "outputs": [],
   "source": [
    "num_data = 100\n",
    "datasets = [\"bicycle\", \"pedestrian\"]\n",
    "\n",
    "for i, dataset in enumerate(datasets):\n",
    "    path = os.path.join(\"../demo/data\", dataset, \"*.jpg\")\n",
    "    files = glob.glob(path)\n",
    "    for j, file in enumerate(files[:num_data]):\n",
    "        img = Image.open(file)\n",
    "        path = os.path.join(\"../demo/data\", str(i), str(i)+\"_\"+str(j)+\".jpg\")\n",
    "        img.save(path)"
   ]
  },
  {
   "cell_type": "markdown",
   "metadata": {},
   "source": [
    "#### 全データをリサイズ "
   ]
  },
  {
   "cell_type": "code",
   "execution_count": 13,
   "metadata": {},
   "outputs": [],
   "source": [
    "size = (32,32)\n",
    "datasets = [\"0\", \"1\"]\n",
    "\n",
    "for dataset in datasets:\n",
    "    path = os.path.join(\"../demo/data\", dataset, \"*.jpg\")\n",
    "    files = glob.glob(path)\n",
    "    for file in files:\n",
    "        img = Image.open(file)\n",
    "        img = img.resize(size=size)\n",
    "        path = os.path.join(\"../demo/data\", \"resized_\" + dataset, file.split(\"/\")[-1])\n",
    "        img.save(path)"
   ]
  }
 ],
 "metadata": {
  "kernelspec": {
   "display_name": "Python 3",
   "language": "python",
   "name": "python3"
  },
  "language_info": {
   "codemirror_mode": {
    "name": "ipython",
    "version": 3
   },
   "file_extension": ".py",
   "mimetype": "text/x-python",
   "name": "python",
   "nbconvert_exporter": "python",
   "pygments_lexer": "ipython3",
   "version": "3.6.10"
  }
 },
 "nbformat": 4,
 "nbformat_minor": 2
}
