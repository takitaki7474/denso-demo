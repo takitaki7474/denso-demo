{
 "cells": [
  {
   "cell_type": "code",
   "execution_count": 2,
   "metadata": {},
   "outputs": [],
   "source": [
    "import os\n",
    "import glob\n",
    "from PIL import Image"
   ]
  },
  {
   "cell_type": "markdown",
   "metadata": {},
   "source": [
    "#### 使用するデータを選択"
   ]
  },
  {
   "cell_type": "code",
   "execution_count": 8,
   "metadata": {},
   "outputs": [],
   "source": [
    "# 訓練データの選択\n",
    "num_data = 300\n",
    "datasets = [\"bicycle\", \"pedestrian\"]\n",
    "moved_dir = \"../demo/data/train_data\"\n",
    "\n",
    "for i, dataset in enumerate(datasets):\n",
    "    path = os.path.join(\"../demo/data\", dataset, \"*.jpg\")\n",
    "    files = glob.glob(path)\n",
    "    for j, file in enumerate(files[:num_data]):\n",
    "        img = Image.open(file)\n",
    "        moved_path = os.path.join(moved_dir, str(i), str(i)+\"_\"+str(j)+\".jpg\")\n",
    "        img.save(moved_path)"
   ]
  },
  {
   "cell_type": "code",
   "execution_count": 9,
   "metadata": {},
   "outputs": [],
   "source": [
    "# テストデータの選択\n",
    "num_data = 75\n",
    "datasets = [\"bicycle\", \"pedestrian\"]\n",
    "moved_dir = \"../demo/data/test_data\"\n",
    "\n",
    "for i, dataset in enumerate(datasets):\n",
    "    path = os.path.join(\"../demo/data\", dataset, \"*.jpg\")\n",
    "    files = glob.glob(path)\n",
    "    for j, file in enumerate(files[-num_data:]):\n",
    "        img = Image.open(file)\n",
    "        moved_path = os.path.join(moved_dir, str(i), str(i)+\"_\"+str(j)+\".jpg\")\n",
    "        img.save(moved_path)"
   ]
  },
  {
   "cell_type": "code",
   "execution_count": 11,
   "metadata": {},
   "outputs": [],
   "source": [
    "# バリデーションデータの選択\n",
    "num_data = 30\n",
    "datasets = [\"bicycle\", \"pedestrian\"]\n",
    "moved_dir = \"../demo/data/val_data\"\n",
    "\n",
    "for i, dataset in enumerate(datasets):\n",
    "    path = os.path.join(\"../demo/data\", dataset, \"*.jpg\")\n",
    "    files = glob.glob(path)\n",
    "    for j, file in enumerate(files[300:300+num_data]):\n",
    "        img = Image.open(file)\n",
    "        moved_path = os.path.join(moved_dir, str(i), str(i)+\"_\"+str(j)+\".jpg\")\n",
    "        img.save(moved_path)"
   ]
  },
  {
   "cell_type": "code",
   "execution_count": null,
   "metadata": {},
   "outputs": [],
   "source": []
  }
 ],
 "metadata": {
  "kernelspec": {
   "display_name": "Python 3",
   "language": "python",
   "name": "python3"
  },
  "language_info": {
   "codemirror_mode": {
    "name": "ipython",
    "version": 3
   },
   "file_extension": ".py",
   "mimetype": "text/x-python",
   "name": "python",
   "nbconvert_exporter": "python",
   "pygments_lexer": "ipython3",
   "version": "3.6.10"
  }
 },
 "nbformat": 4,
 "nbformat_minor": 2
}
