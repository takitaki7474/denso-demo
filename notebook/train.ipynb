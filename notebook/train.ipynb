{
 "cells": [
  {
   "cell_type": "code",
   "execution_count": 2,
   "metadata": {},
   "outputs": [],
   "source": [
    "import os\n",
    "import glob\n",
    "from PIL import Image\n",
    "import torchvision.transforms as transforms"
   ]
  },
  {
   "cell_type": "markdown",
   "metadata": {},
   "source": [
    "#### 画像データの読み込みと学習データの生成"
   ]
  },
  {
   "cell_type": "code",
   "execution_count": 25,
   "metadata": {},
   "outputs": [],
   "source": [
    "def load_dataset(dataset_dir, imsize=(32,32)):\n",
    "    dataset = []\n",
    "    num_label = 2\n",
    "    loader = transforms.Compose([transforms.Resize(imsize), transforms.ToTensor()])\n",
    "    for label in range(num_label):\n",
    "        path = os.path.join(dataset_dir, str(label), \"*.jpg\")\n",
    "        files = glob.glob(path)\n",
    "        for file in files:\n",
    "            img = Image.open(file)\n",
    "            img = loader(img)\n",
    "            dataset.append((img, label))\n",
    "    return dataset"
   ]
  },
  {
   "cell_type": "code",
   "execution_count": 33,
   "metadata": {},
   "outputs": [],
   "source": [
    "train = load_dataset(dataset_dir=\"../demo/data/train_data\")\n",
    "test = load_dataset(dataset_dir=\"../demo/data/test_data\")"
   ]
  }
 ],
 "metadata": {
  "kernelspec": {
   "display_name": "Python 3",
   "language": "python",
   "name": "python3"
  },
  "language_info": {
   "codemirror_mode": {
    "name": "ipython",
    "version": 3
   },
   "file_extension": ".py",
   "mimetype": "text/x-python",
   "name": "python",
   "nbconvert_exporter": "python",
   "pygments_lexer": "ipython3",
   "version": "3.6.10"
  }
 },
 "nbformat": 4,
 "nbformat_minor": 2
}
